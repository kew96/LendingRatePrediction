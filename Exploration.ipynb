{
 "cells": [
  {
   "cell_type": "code",
   "execution_count": 1,
   "metadata": {},
   "outputs": [
    {
<<<<<<< HEAD
<<<<<<< HEAD
=======
>>>>>>> parent of 4b94e62... Added plot labels and limited the rows to 100,000 for speed
     "name": "stderr",
     "output_type": "stream",
     "text": [
      "┌ Info: Recompiling stale cache file C:\\Users\\cspa3\\.julia\\compiled\\v1.2\\CSV\\HHBkp.ji for CSV [336ed68f-0bac-5ca0-87d4-7b16caf5d00b]\n",
<<<<<<< HEAD
=======
      "└ @ Base loading.jl:1240\n",
      "┌ Info: Recompiling stale cache file C:\\Users\\cspa3\\.julia\\compiled\\v1.2\\Plots\\ld3vC.ji for Plots [91a5bcdd-55d7-5caf-9e0b-520d859cae80]\n",
      "└ @ Base loading.jl:1240\n",
      "┌ Info: Recompiling stale cache file C:\\Users\\cspa3\\.julia\\compiled\\v1.2\\StatsPlots\\SiylL.ji for StatsPlots [f3b207a7-027a-5e70-b257-86293d7955fd]\n",
>>>>>>> parent of 4b94e62... Added plot labels and limited the rows to 100,000 for speed
      "└ @ Base loading.jl:1240\n"
     ]
    },
    {
<<<<<<< HEAD
     "ename": "ArgumentError",
     "evalue": "ArgumentError: \"accepted_2007_to_2018Q4.csv\" is not a valid file",
     "output_type": "error",
     "traceback": [
      "ArgumentError: \"accepted_2007_to_2018Q4.csv\" is not a valid file",
      "",
      "Stacktrace:",
      " [1] checkvalidsource at C:\\Users\\cspa3\\.julia\\packages\\CSV\\t5ipc\\src\\CSV.jl:95 [inlined]",
      " [2] file(::String, ::Int64, ::Bool, ::Int64, ::Nothing, ::Int64, ::Int64, ::Bool, ::Nothing, ::Bool, ::Bool, ::Array{String,1}, ::String, ::Nothing, ::Bool, ::Char, ::Nothing, ::Nothing, ::Char, ::Nothing, ::UInt8, ::Nothing, ::Nothing, ::Nothing, ::Nothing, ::Dict{Int8,Int8}, ::Bool, ::Float64, ::Bool, ::Bool, ::Nothing, ::Bool, ::Bool, ::Nothing) at C:\\Users\\cspa3\\.julia\\packages\\CSV\\t5ipc\\src\\CSV.jl:247",
      " [3] Type at C:\\Users\\cspa3\\.julia\\packages\\CSV\\t5ipc\\src\\CSV.jl:197 [inlined]",
      " [4] #read#61 at C:\\Users\\cspa3\\.julia\\packages\\CSV\\t5ipc\\src\\CSV.jl:830 [inlined]",
      " [5] read(::String) at C:\\Users\\cspa3\\.julia\\packages\\CSV\\t5ipc\\src\\CSV.jl:830",
      " [6] top-level scope at In[1]:2"
     ]
=======
=======
>>>>>>> parent of 4b94e62... Added plot labels and limited the rows to 100,000 for speed
     "data": {
      "text/plain": [
       "(2260701, 151)"
      ]
     },
     "execution_count": 1,
     "metadata": {},
     "output_type": "execute_result"
>>>>>>> 4b94e62f49e143a9ce62da9371abf913fa60f0fa
    }
   ],
   "source": [
    "using CSV, DataFrames, Plots, Statistics, StatsPlots, Dates\n",
    "df = CSV.read(\"accepted_2007_to_2018Q4.csv\")\n",
    "size(df)"
   ]
  },
  {
   "cell_type": "code",
   "execution_count": 2,
   "metadata": {},
   "outputs": [
    {
     "ename": "UndefVarError",
     "evalue": "UndefVarError: df not defined",
     "output_type": "error",
     "traceback": [
      "UndefVarError: df not defined",
      "",
      "Stacktrace:",
      " [1] top-level scope at .\\In[2]:1"
     ]
    }
   ],
   "source": [
    "for i in names(df)\n",
    "    println(i)\n",
    "end"
   ]
  },
  {
   "cell_type": "code",
<<<<<<< HEAD
<<<<<<< HEAD
   "execution_count": 3,
   "metadata": {},
   "outputs": [
    {
     "ename": "UndefVarError",
     "evalue": "UndefVarError: df not defined",
     "output_type": "error",
     "traceback": [
      "UndefVarError: df not defined",
      "",
      "Stacktrace:",
      " [1] top-level scope at In[3]:1"
     ]
=======
   "execution_count": 50,
=======
   "execution_count": 3,
>>>>>>> parent of 4b94e62... Added plot labels and limited the rows to 100,000 for speed
   "metadata": {},
   "outputs": [
    {
     "data": {
      "text/html": [
       "<table class=\"data-frame\"><thead><tr><th></th><th>id</th><th>member_id</th><th>loan_amnt</th><th>funded_amnt</th><th>funded_amnt_inv</th><th>term</th><th>int_rate</th></tr><tr><th></th><th>String</th><th>Missing</th><th>Float64⍰</th><th>Float64⍰</th><th>Float64⍰</th><th>String⍰</th><th>Float64⍰</th></tr></thead><tbody><p>5 rows × 151 columns (omitted printing of 144 columns)</p><tr><th>1</th><td>68407277</td><td>missing</td><td>3600.0</td><td>3600.0</td><td>3600.0</td><td> 36 months</td><td>13.99</td></tr><tr><th>2</th><td>68355089</td><td>missing</td><td>24700.0</td><td>24700.0</td><td>24700.0</td><td> 36 months</td><td>11.99</td></tr><tr><th>3</th><td>68341763</td><td>missing</td><td>20000.0</td><td>20000.0</td><td>20000.0</td><td> 60 months</td><td>10.78</td></tr><tr><th>4</th><td>66310712</td><td>missing</td><td>35000.0</td><td>35000.0</td><td>35000.0</td><td> 60 months</td><td>14.85</td></tr><tr><th>5</th><td>68476807</td><td>missing</td><td>10400.0</td><td>10400.0</td><td>10400.0</td><td> 60 months</td><td>22.45</td></tr></tbody></table>"
      ],
      "text/latex": [
       "\\begin{tabular}{r|cccccccc}\n",
       "\t& id & member\\_id & loan\\_amnt & funded\\_amnt & funded\\_amnt\\_inv & term & int\\_rate & \\\\\n",
       "\t\\hline\n",
       "\t& String & Missing & Float64⍰ & Float64⍰ & Float64⍰ & String⍰ & Float64⍰ & \\\\\n",
       "\t\\hline\n",
       "\t1 & 68407277 &  & 3600.0 & 3600.0 & 3600.0 &  36 months & 13.99 & $\\dots$ \\\\\n",
       "\t2 & 68355089 &  & 24700.0 & 24700.0 & 24700.0 &  36 months & 11.99 & $\\dots$ \\\\\n",
       "\t3 & 68341763 &  & 20000.0 & 20000.0 & 20000.0 &  60 months & 10.78 & $\\dots$ \\\\\n",
       "\t4 & 66310712 &  & 35000.0 & 35000.0 & 35000.0 &  60 months & 14.85 & $\\dots$ \\\\\n",
       "\t5 & 68476807 &  & 10400.0 & 10400.0 & 10400.0 &  60 months & 22.45 & $\\dots$ \\\\\n",
       "\\end{tabular}\n"
      ],
      "text/plain": [
       "5×151 DataFrame. Omitted printing of 146 columns\n",
       "│ Row │ id       │ member_id │ loan_amnt │ funded_amnt │ funded_amnt_inv │\n",
       "│     │ \u001b[90mString\u001b[39m   │ \u001b[90mMissing\u001b[39m   │ \u001b[90mFloat64⍰\u001b[39m  │ \u001b[90mFloat64⍰\u001b[39m    │ \u001b[90mFloat64⍰\u001b[39m        │\n",
       "├─────┼──────────┼───────────┼───────────┼─────────────┼─────────────────┤\n",
       "│ 1   │ 68407277 │ \u001b[90mmissing\u001b[39m   │ 3600.0    │ 3600.0      │ 3600.0          │\n",
       "│ 2   │ 68355089 │ \u001b[90mmissing\u001b[39m   │ 24700.0   │ 24700.0     │ 24700.0         │\n",
       "│ 3   │ 68341763 │ \u001b[90mmissing\u001b[39m   │ 20000.0   │ 20000.0     │ 20000.0         │\n",
       "│ 4   │ 66310712 │ \u001b[90mmissing\u001b[39m   │ 35000.0   │ 35000.0     │ 35000.0         │\n",
       "│ 5   │ 68476807 │ \u001b[90mmissing\u001b[39m   │ 10400.0   │ 10400.0     │ 10400.0         │"
      ]
     },
     "execution_count": 3,
     "metadata": {},
     "output_type": "execute_result"
>>>>>>> 4b94e62f49e143a9ce62da9371abf913fa60f0fa
    }
   ],
   "source": [
    "first(df, 5)"
   ]
  },
  {
   "cell_type": "code",
<<<<<<< HEAD
<<<<<<< HEAD
   "execution_count": null,
   "metadata": {},
   "outputs": [],
   "source": [
    "using Plots"
=======
   "execution_count": 51,
=======
   "execution_count": 4,
>>>>>>> parent of 4b94e62... Added plot labels and limited the rows to 100,000 for speed
   "metadata": {},
   "outputs": [],
   "source": [
    "columns = [:loan_amnt, :issue_d, :term, :int_rate, :installment, :grade,\n",
    "            :sub_grade, :emp_title, :emp_length, :home_ownership,\n",
    "            :annual_inc, :pymnt_plan, :purpose, :title,\n",
    "            :zip_code, :addr_state, :dti, :delinq_2yrs,\n",
    "            :earliest_cr_line, :inq_last_6mths, :mths_since_last_delinq,\n",
    "            :mths_since_last_record, :open_acc, :pub_rec, :total_acc,\n",
    "            :total_pymnt, :total_pymnt_inv, :recoveries, :last_pymnt_d,\n",
    "            :last_pymnt_amnt, :next_pymnt_d, :last_credit_pull_d,\n",
    "            :annual_inc_joint, :dti_joint, :acc_now_delinq, :tot_coll_amt,\n",
    "            :tot_cur_bal, :open_acc_6m, :acc_open_past_24mths, :delinq_amnt];"
   ]
  },
  {
   "cell_type": "code",
   "execution_count": 5,
   "metadata": {},
   "outputs": [],
   "source": [
    "data = df[:, columns];"
   ]
  },
  {
   "cell_type": "code",
   "execution_count": 6,
   "metadata": {},
   "outputs": [
    {
     "name": "stdout",
     "output_type": "stream",
     "text": [
      "loan_amnt: 33\n",
      "issue_d: 33\n",
      "term: 33\n",
      "int_rate: 33\n",
      "installment: 33\n",
      "grade: 33\n",
      "sub_grade: 33\n",
      "emp_title: 167002\n",
      "emp_length: 146940\n",
      "home_ownership: 33\n",
      "annual_inc: 37\n",
      "pymnt_plan: 33\n",
      "purpose: 33\n",
      "title: 23358\n",
      "zip_code: 34\n",
      "addr_state: 33\n",
      "dti: 1744\n",
      "delinq_2yrs: 62\n",
      "earliest_cr_line: 62\n",
      "inq_last_6mths: 63\n",
      "mths_since_last_delinq: 1158535\n",
      "mths_since_last_record: 1901545\n",
      "open_acc: 62\n",
      "pub_rec: 62\n",
      "total_acc: 62\n",
      "total_pymnt: 33\n",
      "total_pymnt_inv: 33\n",
      "recoveries: 33\n",
      "last_pymnt_d: 2460\n",
      "last_pymnt_amnt: 33\n",
      "next_pymnt_d: 1345343\n",
      "last_credit_pull_d: 105\n",
      "annual_inc_joint: 2139991\n",
      "dti_joint: 2139995\n",
      "acc_now_delinq: 62\n",
      "tot_coll_amt: 70309\n",
      "tot_cur_bal: 70309\n",
      "open_acc_6m: 866163\n",
      "acc_open_past_24mths: 50063\n",
      "delinq_amnt: 62\n"
     ]
    }
   ],
   "source": [
    "for col in columns\n",
    "    println(col, \": \", sum(ismissing.(data[:, col])))\n",
    "end"
   ]
  },
  {
   "cell_type": "code",
   "execution_count": 7,
   "metadata": {},
   "outputs": [],
   "source": [
    "required = [:loan_amnt, :term, :int_rate, :installment, :grade,\n",
    "            :sub_grade, :home_ownership, :annual_inc, :pymnt_plan,\n",
    "            :zip_code, :addr_state, :dti, :issue_d, :delinq_2yrs,\n",
    "            :earliest_cr_line, :inq_last_6mths, :open_acc, :pub_rec,\n",
    "            :total_acc, :total_pymnt, :total_pymnt_inv, :recoveries,\n",
    "            :last_pymnt_amnt, :last_credit_pull_d, :acc_now_delinq, :delinq_amnt];"
   ]
  },
  {
   "cell_type": "code",
   "execution_count": 8,
   "metadata": {},
   "outputs": [],
   "source": [
    "data = dropmissing(data, required);"
   ]
  },
  {
   "cell_type": "code",
   "execution_count": 9,
   "metadata": {},
   "outputs": [
    {
     "data": {
      "text/html": [
       "<table class=\"data-frame\"><thead><tr><th></th><th>variable</th><th>mean</th><th>min</th><th>median</th><th>max</th></tr><tr><th></th><th>Symbol</th><th>Union…</th><th>Any</th><th>Union…</th><th>Any</th></tr></thead><tbody><p>40 rows × 8 columns (omitted printing of 3 columns)</p><tr><th>1</th><td>loan_amnt</td><td>15044.1</td><td>500.0</td><td>12900.0</td><td>40000.0</td></tr><tr><th>2</th><td>issue_d</td><td></td><td>Apr-2008</td><td></td><td>Sep-2018</td></tr><tr><th>3</th><td>term</td><td></td><td> 36 months</td><td></td><td> 60 months</td></tr><tr><th>4</th><td>int_rate</td><td>13.092</td><td>5.31</td><td>12.62</td><td>30.99</td></tr><tr><th>5</th><td>installment</td><td>445.731</td><td>4.93</td><td>377.89</td><td>1719.83</td></tr><tr><th>6</th><td>grade</td><td></td><td>A</td><td></td><td>G</td></tr><tr><th>7</th><td>sub_grade</td><td></td><td>A1</td><td></td><td>G5</td></tr><tr><th>8</th><td>emp_title</td><td></td><td>\\tCFO</td><td></td><td>👨\\u200d🍳 </td></tr><tr><th>9</th><td>emp_length</td><td></td><td>1 year</td><td></td><td>&lt; 1 year</td></tr><tr><th>10</th><td>home_ownership</td><td></td><td>ANY</td><td></td><td>RENT</td></tr><tr><th>11</th><td>annual_inc</td><td>78051.8</td><td>0.0</td><td>65000.0</td><td>1.1e8</td></tr><tr><th>12</th><td>pymnt_plan</td><td></td><td>n</td><td></td><td>y</td></tr><tr><th>13</th><td>purpose</td><td></td><td>car</td><td></td><td>wedding</td></tr><tr><th>14</th><td>title</td><td></td><td>\\tcredit_card</td><td></td><td>î\\u81\\u97î\\u81\\u97MY FIRST CAR î\\u81\\u97î\\u81\\u97</td></tr><tr><th>15</th><td>zip_code</td><td></td><td>007xx</td><td></td><td>999xx</td></tr><tr><th>16</th><td>addr_state</td><td></td><td>AK</td><td></td><td>WY</td></tr><tr><th>17</th><td>dti</td><td>18.8244</td><td>-1.0</td><td>17.84</td><td>999.0</td></tr><tr><th>18</th><td>delinq_2yrs</td><td>0.306971</td><td>0.0</td><td>0.0</td><td>58.0</td></tr><tr><th>19</th><td>earliest_cr_line</td><td></td><td>Apr-1934</td><td></td><td>Sep-2015</td></tr><tr><th>20</th><td>inq_last_6mths</td><td>0.577049</td><td>0.0</td><td>0.0</td><td>33.0</td></tr><tr><th>21</th><td>mths_since_last_delinq</td><td>34.5399</td><td>0.0</td><td>31.0</td><td>226.0</td></tr><tr><th>22</th><td>mths_since_last_record</td><td>72.31</td><td>0.0</td><td>74.0</td><td>129.0</td></tr><tr><th>23</th><td>open_acc</td><td>11.6142</td><td>0.0</td><td>11.0</td><td>101.0</td></tr><tr><th>24</th><td>pub_rec</td><td>0.19759</td><td>0.0</td><td>0.0</td><td>86.0</td></tr><tr><th>25</th><td>total_acc</td><td>24.1673</td><td>1.0</td><td>22.0</td><td>176.0</td></tr><tr><th>26</th><td>total_pymnt</td><td>12085.4</td><td>0.0</td><td>9333.84</td><td>63296.9</td></tr><tr><th>27</th><td>total_pymnt_inv</td><td>12067.3</td><td>0.0</td><td>9313.25</td><td>63296.9</td></tr><tr><th>28</th><td>recoveries</td><td>143.954</td><td>0.0</td><td>0.0</td><td>39859.6</td></tr><tr><th>29</th><td>last_pymnt_d</td><td></td><td>Apr-2008</td><td></td><td>Sep-2018</td></tr><tr><th>30</th><td>last_pymnt_amnt</td><td>3429.87</td><td>0.0</td><td>600.58</td><td>42192.1</td></tr><tr><th>&vellip;</th><td>&vellip;</td><td>&vellip;</td><td>&vellip;</td><td>&vellip;</td><td>&vellip;</td></tr></tbody></table>"
      ],
      "text/latex": [
       "\\begin{tabular}{r|cccccc}\n",
       "\t& variable & mean & min & median & max & \\\\\n",
       "\t\\hline\n",
       "\t& Symbol & Union… & Any & Union… & Any & \\\\\n",
       "\t\\hline\n",
       "\t1 & loan\\_amnt & 15044.1 & 500.0 & 12900.0 & 40000.0 & $\\dots$ \\\\\n",
       "\t2 & issue\\_d &  & Apr-2008 &  & Sep-2018 & $\\dots$ \\\\\n",
       "\t3 & term &  &  36 months &  &  60 months & $\\dots$ \\\\\n",
       "\t4 & int\\_rate & 13.092 & 5.31 & 12.62 & 30.99 & $\\dots$ \\\\\n",
       "\t5 & installment & 445.731 & 4.93 & 377.89 & 1719.83 & $\\dots$ \\\\\n",
       "\t6 & grade &  & A &  & G & $\\dots$ \\\\\n",
       "\t7 & sub\\_grade &  & A1 &  & G5 & $\\dots$ \\\\\n",
       "\t8 & emp\\_title &  & \\textbackslash{}tCFO &  & 👨\\textbackslash{}u200d🍳  & $\\dots$ \\\\\n",
       "\t9 & emp\\_length &  & 1 year &  & < 1 year & $\\dots$ \\\\\n",
       "\t10 & home\\_ownership &  & ANY &  & RENT & $\\dots$ \\\\\n",
       "\t11 & annual\\_inc & 78051.8 & 0.0 & 65000.0 & 1.1e8 & $\\dots$ \\\\\n",
       "\t12 & pymnt\\_plan &  & n &  & y & $\\dots$ \\\\\n",
       "\t13 & purpose &  & car &  & wedding & $\\dots$ \\\\\n",
       "\t14 & title &  & \\textbackslash{}tcredit\\_card &  & î\\textbackslash{}u81\\textbackslash{}u97î\\textbackslash{}u81\\textbackslash{}u97MY FIRST CAR î\\textbackslash{}u81\\textbackslash{}u97î\\textbackslash{}u81\\textbackslash{}u97 & $\\dots$ \\\\\n",
       "\t15 & zip\\_code &  & 007xx &  & 999xx & $\\dots$ \\\\\n",
       "\t16 & addr\\_state &  & AK &  & WY & $\\dots$ \\\\\n",
       "\t17 & dti & 18.8244 & -1.0 & 17.84 & 999.0 & $\\dots$ \\\\\n",
       "\t18 & delinq\\_2yrs & 0.306971 & 0.0 & 0.0 & 58.0 & $\\dots$ \\\\\n",
       "\t19 & earliest\\_cr\\_line &  & Apr-1934 &  & Sep-2015 & $\\dots$ \\\\\n",
       "\t20 & inq\\_last\\_6mths & 0.577049 & 0.0 & 0.0 & 33.0 & $\\dots$ \\\\\n",
       "\t21 & mths\\_since\\_last\\_delinq & 34.5399 & 0.0 & 31.0 & 226.0 & $\\dots$ \\\\\n",
       "\t22 & mths\\_since\\_last\\_record & 72.31 & 0.0 & 74.0 & 129.0 & $\\dots$ \\\\\n",
       "\t23 & open\\_acc & 11.6142 & 0.0 & 11.0 & 101.0 & $\\dots$ \\\\\n",
       "\t24 & pub\\_rec & 0.19759 & 0.0 & 0.0 & 86.0 & $\\dots$ \\\\\n",
       "\t25 & total\\_acc & 24.1673 & 1.0 & 22.0 & 176.0 & $\\dots$ \\\\\n",
       "\t26 & total\\_pymnt & 12085.4 & 0.0 & 9333.84 & 63296.9 & $\\dots$ \\\\\n",
       "\t27 & total\\_pymnt\\_inv & 12067.3 & 0.0 & 9313.25 & 63296.9 & $\\dots$ \\\\\n",
       "\t28 & recoveries & 143.954 & 0.0 & 0.0 & 39859.6 & $\\dots$ \\\\\n",
       "\t29 & last\\_pymnt\\_d &  & Apr-2008 &  & Sep-2018 & $\\dots$ \\\\\n",
       "\t30 & last\\_pymnt\\_amnt & 3429.87 & 0.0 & 600.58 & 42192.1 & $\\dots$ \\\\\n",
       "\t$\\dots$ & $\\dots$ & $\\dots$ & $\\dots$ & $\\dots$ & $\\dots$ &  \\\\\n",
       "\\end{tabular}\n"
      ],
      "text/plain": [
       "40×8 DataFrame. Omitted printing of 4 columns\n",
       "│ Row │ variable             │ mean       │ min        │ median   │\n",
       "│     │ \u001b[90mSymbol\u001b[39m               │ \u001b[90mUnion…\u001b[39m     │ \u001b[90mAny\u001b[39m        │ \u001b[90mUnion…\u001b[39m   │\n",
       "├─────┼──────────────────────┼────────────┼────────────┼──────────┤\n",
       "│ 1   │ loan_amnt            │ 15044.1    │ 500.0      │ 12900.0  │\n",
       "│ 2   │ issue_d              │            │ Apr-2008   │          │\n",
       "│ 3   │ term                 │            │  36 months │          │\n",
       "│ 4   │ int_rate             │ 13.092     │ 5.31       │ 12.62    │\n",
       "│ 5   │ installment          │ 445.731    │ 4.93       │ 377.89   │\n",
       "│ 6   │ grade                │            │ A          │          │\n",
       "│ 7   │ sub_grade            │            │ A1         │          │\n",
       "│ 8   │ emp_title            │            │ \\tCFO      │          │\n",
       "│ 9   │ emp_length           │            │ 1 year     │          │\n",
       "│ 10  │ home_ownership       │            │ ANY        │          │\n",
       "⋮\n",
       "│ 30  │ last_pymnt_amnt      │ 3429.87    │ 0.0        │ 600.58   │\n",
       "│ 31  │ next_pymnt_d         │            │ Apr-2008   │          │\n",
       "│ 32  │ last_credit_pull_d   │            │ Apr-2009   │          │\n",
       "│ 33  │ annual_inc_joint     │ 1.23689e5  │ 5693.51    │ 110000.0 │\n",
       "│ 34  │ dti_joint            │ 19.2582    │ 0.0        │ 18.85    │\n",
       "│ 35  │ acc_now_delinq       │ 0.00415033 │ 0.0        │ 0.0      │\n",
       "│ 36  │ tot_coll_amt         │ 232.431    │ 0.0        │ 0.0      │\n",
       "│ 37  │ tot_cur_bal          │ 1.42498e5  │ 0.0        │ 79259.0  │\n",
       "│ 38  │ open_acc_6m          │ 0.934725   │ 0.0        │ 1.0      │\n",
       "│ 39  │ acc_open_past_24mths │ 4.52256    │ 0.0        │ 4.0      │\n",
       "│ 40  │ delinq_amnt          │ 12.3789    │ 0.0        │ 0.0      │"
      ]
     },
     "execution_count": 9,
     "metadata": {},
     "output_type": "execute_result"
    }
   ],
   "source": [
    "describe(data)"
   ]
  },
  {
   "cell_type": "code",
   "execution_count": 20,
   "metadata": {},
   "outputs": [
    {
     "ename": "MethodError",
     "evalue": "MethodError: no method matching Int64(::Date)\nClosest candidates are:\n  Int64(!Matched::Union{Bool, Int32, Int64, UInt32, UInt64, UInt8, Int128, Int16, Int8, UInt128, UInt16}) at boot.jl:710\n  Int64(!Matched::Ptr) at boot.jl:720\n  Int64(!Matched::Float32) at float.jl:700\n  ...",
     "output_type": "error",
     "traceback": [
      "MethodError: no method matching Int64(::Date)\nClosest candidates are:\n  Int64(!Matched::Union{Bool, Int32, Int64, UInt32, UInt64, UInt8, Int128, Int16, Int8, UInt128, UInt16}) at boot.jl:710\n  Int64(!Matched::Ptr) at boot.jl:720\n  Int64(!Matched::Float32) at float.jl:700\n  ...",
      "",
      "Stacktrace:",
      " [1] Date(::Date, ::DateFormat{Symbol(\"u-y\"),Tuple{Dates.DatePart{'u'},Dates.Delim{Char,1},Dates.DatePart{'y'}}}, ::Int64) at C:\\cygwin\\home\\Administrator\\buildbot\\worker\\package_win64\\build\\usr\\share\\julia\\stdlib\\v1.2\\Dates\\src\\types.jl:343 (repeats 2 times)",
      " [2] _broadcast_getindex_evalf at .\\broadcast.jl:625 [inlined]",
      " [3] _broadcast_getindex at .\\broadcast.jl:598 [inlined]",
      " [4] getindex at .\\broadcast.jl:558 [inlined]",
      " [5] copy at .\\broadcast.jl:832 [inlined]",
      " [6] materialize(::Base.Broadcast.Broadcasted{Base.Broadcast.DefaultArrayStyle{1},Nothing,Type{Date},Tuple{Array{Date,1},Base.RefValue{DateFormat{Symbol(\"u-y\"),Tuple{Dates.DatePart{'u'},Dates.Delim{Char,1},Dates.DatePart{'y'}}}}}}) at .\\broadcast.jl:798",
      " [7] top-level scope at In[20]:1"
     ]
    }
   ],
   "source": [
    "data[:, :issue_d] = Date.(data[:, :issue_d], Dates.DateFormat(\"u-y\"));"
   ]
  },
  {
   "cell_type": "code",
   "execution_count": 11,
   "metadata": {},
   "outputs": [],
   "source": [
    "features = [:loan_amnt, :issue_d, :term, :installment, :grade,\n",
    "            :sub_grade, :emp_title, :emp_length, :home_ownership,\n",
    "            :annual_inc, :pymnt_plan, :purpose, :title,\n",
    "            :zip_code, :addr_state, :dti, :delinq_2yrs,\n",
    "            :earliest_cr_line, :inq_last_6mths, :mths_since_last_delinq,\n",
    "            :mths_since_last_record, :open_acc, :pub_rec, :total_acc,\n",
    "            :total_pymnt, :total_pymnt_inv, :recoveries, :last_pymnt_d,\n",
    "            :last_pymnt_amnt, :next_pymnt_d, :last_credit_pull_d,\n",
    "            :annual_inc_joint, :dti_joint, :acc_now_delinq, :tot_coll_amt,\n",
    "            :tot_cur_bal, :open_acc_6m, :acc_open_past_24mths, :delinq_amnt];"
   ]
  },
  {
   "cell_type": "code",
   "execution_count": 12,
   "metadata": {},
   "outputs": [],
   "source": [
    "X = data[:, features]\n",
    "Y = data[:, :int_rate];"
   ]
  },
  {
   "cell_type": "code",
   "execution_count": 13,
   "metadata": {},
   "outputs": [],
   "source": [
    "viz = by(data, [:issue_d, :grade], :int_rate => x -> sum(x)/size(x, 1))\n",
    "viz = sort(viz, [:issue_d, :grade]);"
   ]
  },
  {
   "cell_type": "code",
   "execution_count": 14,
   "metadata": {},
   "outputs": [
    {
     "ename": "MethodError",
     "evalue": "MethodError: no method matching +(::String, ::Int64)\nClosest candidates are:\n  +(::Any, ::Any, !Matched::Any, !Matched::Any...) at operators.jl:529\n  +(!Matched::Complex{Bool}, ::Real) at complex.jl:293\n  +(!Matched::Missing, ::Number) at missing.jl:94\n  ...",
     "output_type": "error",
     "traceback": [
      "MethodError: no method matching +(::String, ::Int64)\nClosest candidates are:\n  +(::Any, ::Any, !Matched::Any, !Matched::Any...) at operators.jl:529\n  +(!Matched::Complex{Bool}, ::Real) at complex.jl:293\n  +(!Matched::Missing, ::Number) at missing.jl:94\n  ...",
      "",
      "Stacktrace:",
      " [1] year(::String) at C:\\cygwin\\home\\Administrator\\buildbot\\worker\\package_win64\\build\\usr\\share\\julia\\stdlib\\v1.2\\Dates\\src\\accessors.jl:11",
      " [2] _broadcast_getindex_evalf at .\\broadcast.jl:625 [inlined]",
      " [3] _broadcast_getindex at .\\broadcast.jl:598 [inlined]",
      " [4] getindex at .\\broadcast.jl:558 [inlined]",
      " [5] copy at .\\broadcast.jl:832 [inlined]",
      " [6] materialize(::Base.Broadcast.Broadcasted{Base.Broadcast.DefaultArrayStyle{1},Nothing,typeof(year),Tuple{PooledArrays.PooledArray{String,UInt32,1,Array{UInt32,1}}}}) at .\\broadcast.jl:798",
      " [7] top-level scope at In[14]:1"
     ]
    }
   ],
   "source": [
    "x_vals = unique(Dates.year.(viz[:, :issue_d]));\n",
    "x_dates = Date.(x_vals);"
   ]
  },
  {
   "cell_type": "code",
   "execution_count": 15,
   "metadata": {},
   "outputs": [
    {
     "ename": "UndefVarError",
     "evalue": "UndefVarError: x_dates not defined",
     "output_type": "error",
     "traceback": [
      "UndefVarError: x_dates not defined",
      "",
      "Stacktrace:",
      " [1] (::getfield(Main, Symbol(\"##5#6\")))(::DataFrame) at .\\none:0",
      " [2] top-level scope at In[15]:1"
     ]
    }
   ],
   "source": [
    "@df viz plot(:issue_d, :int_rate_function, group=:grade, xrotation=30, legend=:topleft, xticks=x_dates)"
   ]
  },
  {
   "cell_type": "code",
   "execution_count": 16,
   "metadata": {},
   "outputs": [
    {
     "data": {
      "image/svg+xml": [
       "<?xml version=\"1.0\" encoding=\"utf-8\"?>\n",
       "<svg xmlns=\"http://www.w3.org/2000/svg\" xmlns:xlink=\"http://www.w3.org/1999/xlink\" width=\"600\" height=\"400\" viewBox=\"0 0 2400 1600\">\n",
       "<defs>\n",
       "  <clipPath id=\"clip0700\">\n",
       "    <rect x=\"0\" y=\"0\" width=\"2400\" height=\"1600\"/>\n",
       "  </clipPath>\n",
       "</defs>\n",
       "<polygon clip-path=\"url(#clip0700)\" points=\"\n",
       "0,1600 2400,1600 2400,0 0,0 \n",
       "  \" fill=\"#ffffff\" fill-rule=\"evenodd\" fill-opacity=\"1\"/>\n",
       "<defs>\n",
       "  <clipPath id=\"clip0701\">\n",
       "    <rect x=\"480\" y=\"0\" width=\"1681\" height=\"1600\"/>\n",
       "  </clipPath>\n",
       "</defs>\n",
       "<polygon clip-path=\"url(#clip0700)\" points=\"\n",
       "301.332,1487.47 2352.76,1487.47 2352.76,47.2441 301.332,47.2441 \n",
       "  \" fill=\"#ffffff\" fill-rule=\"evenodd\" fill-opacity=\"1\"/>\n",
       "<defs>\n",
       "  <clipPath id=\"clip0702\">\n",
       "    <rect x=\"301\" y=\"47\" width=\"2052\" height=\"1441\"/>\n",
       "  </clipPath>\n",
       "</defs>\n",
       "<polyline clip-path=\"url(#clip0702)\" style=\"stroke:#000000; stroke-width:2; stroke-opacity:0.1; fill:none\" points=\"\n",
       "  339.94,1487.47 339.94,47.2441 \n",
       "  \"/>\n",
       "<polyline clip-path=\"url(#clip0702)\" style=\"stroke:#000000; stroke-width:2; stroke-opacity:0.1; fill:none\" points=\"\n",
       "  826.198,1487.47 826.198,47.2441 \n",
       "  \"/>\n",
       "<polyline clip-path=\"url(#clip0702)\" style=\"stroke:#000000; stroke-width:2; stroke-opacity:0.1; fill:none\" points=\"\n",
       "  1312.46,1487.47 1312.46,47.2441 \n",
       "  \"/>\n",
       "<polyline clip-path=\"url(#clip0702)\" style=\"stroke:#000000; stroke-width:2; stroke-opacity:0.1; fill:none\" points=\"\n",
       "  1798.71,1487.47 1798.71,47.2441 \n",
       "  \"/>\n",
       "<polyline clip-path=\"url(#clip0702)\" style=\"stroke:#000000; stroke-width:2; stroke-opacity:0.1; fill:none\" points=\"\n",
       "  2284.97,1487.47 2284.97,47.2441 \n",
       "  \"/>\n",
       "<polyline clip-path=\"url(#clip0702)\" style=\"stroke:#000000; stroke-width:2; stroke-opacity:0.1; fill:none\" points=\"\n",
       "  301.332,1446.71 2352.76,1446.71 \n",
       "  \"/>\n",
       "<polyline clip-path=\"url(#clip0702)\" style=\"stroke:#000000; stroke-width:2; stroke-opacity:0.1; fill:none\" points=\"\n",
       "  301.332,1088.88 2352.76,1088.88 \n",
       "  \"/>\n",
       "<polyline clip-path=\"url(#clip0702)\" style=\"stroke:#000000; stroke-width:2; stroke-opacity:0.1; fill:none\" points=\"\n",
       "  301.332,731.043 2352.76,731.043 \n",
       "  \"/>\n",
       "<polyline clip-path=\"url(#clip0702)\" style=\"stroke:#000000; stroke-width:2; stroke-opacity:0.1; fill:none\" points=\"\n",
       "  301.332,373.207 2352.76,373.207 \n",
       "  \"/>\n",
       "<polyline clip-path=\"url(#clip0700)\" style=\"stroke:#000000; stroke-width:4; stroke-opacity:1; fill:none\" points=\"\n",
       "  301.332,1487.47 2352.76,1487.47 \n",
       "  \"/>\n",
       "<polyline clip-path=\"url(#clip0700)\" style=\"stroke:#000000; stroke-width:4; stroke-opacity:1; fill:none\" points=\"\n",
       "  301.332,1487.47 301.332,47.2441 \n",
       "  \"/>\n",
       "<polyline clip-path=\"url(#clip0700)\" style=\"stroke:#000000; stroke-width:4; stroke-opacity:1; fill:none\" points=\"\n",
       "  339.94,1487.47 339.94,1465.87 \n",
       "  \"/>\n",
       "<polyline clip-path=\"url(#clip0700)\" style=\"stroke:#000000; stroke-width:4; stroke-opacity:1; fill:none\" points=\"\n",
       "  826.198,1487.47 826.198,1465.87 \n",
       "  \"/>\n",
       "<polyline clip-path=\"url(#clip0700)\" style=\"stroke:#000000; stroke-width:4; stroke-opacity:1; fill:none\" points=\"\n",
       "  1312.46,1487.47 1312.46,1465.87 \n",
       "  \"/>\n",
       "<polyline clip-path=\"url(#clip0700)\" style=\"stroke:#000000; stroke-width:4; stroke-opacity:1; fill:none\" points=\"\n",
       "  1798.71,1487.47 1798.71,1465.87 \n",
       "  \"/>\n",
       "<polyline clip-path=\"url(#clip0700)\" style=\"stroke:#000000; stroke-width:4; stroke-opacity:1; fill:none\" points=\"\n",
       "  2284.97,1487.47 2284.97,1465.87 \n",
       "  \"/>\n",
       "<polyline clip-path=\"url(#clip0700)\" style=\"stroke:#000000; stroke-width:4; stroke-opacity:1; fill:none\" points=\"\n",
       "  301.332,1446.71 332.103,1446.71 \n",
       "  \"/>\n",
       "<polyline clip-path=\"url(#clip0700)\" style=\"stroke:#000000; stroke-width:4; stroke-opacity:1; fill:none\" points=\"\n",
       "  301.332,1088.88 332.103,1088.88 \n",
       "  \"/>\n",
       "<polyline clip-path=\"url(#clip0700)\" style=\"stroke:#000000; stroke-width:4; stroke-opacity:1; fill:none\" points=\"\n",
       "  301.332,731.043 332.103,731.043 \n",
       "  \"/>\n",
       "<polyline clip-path=\"url(#clip0700)\" style=\"stroke:#000000; stroke-width:4; stroke-opacity:1; fill:none\" points=\"\n",
       "  301.332,373.207 332.103,373.207 \n",
       "  \"/>\n",
       "<g clip-path=\"url(#clip0700)\">\n",
       "<text style=\"fill:#000000; fill-opacity:1; font-family:Arial,Helvetica Neue,Helvetica,sans-serif; font-size:48px; text-anchor:middle;\" transform=\"rotate(0, 339.94, 1541.47)\" x=\"339.94\" y=\"1541.47\">0</text>\n",
       "</g>\n",
       "<g clip-path=\"url(#clip0700)\">\n",
       "<text style=\"fill:#000000; fill-opacity:1; font-family:Arial,Helvetica Neue,Helvetica,sans-serif; font-size:48px; text-anchor:start;\" transform=\"rotate(0, 761.127, 1562.48)\" x=\"761.127\" y=\"1562.48\">1×10</text>\n",
       "</g>\n",
       "<g clip-path=\"url(#clip0700)\">\n",
       "<text style=\"fill:#000000; fill-opacity:1; font-family:Arial,Helvetica Neue,Helvetica,sans-serif; font-size:38px; text-anchor:start;\" transform=\"rotate(0, 869.525, 1535.07)\" x=\"869.525\" y=\"1535.07\">4</text>\n",
       "</g>\n",
       "<g clip-path=\"url(#clip0700)\">\n",
       "<text style=\"fill:#000000; fill-opacity:1; font-family:Arial,Helvetica Neue,Helvetica,sans-serif; font-size:48px; text-anchor:start;\" transform=\"rotate(0, 1247.39, 1562.48)\" x=\"1247.39\" y=\"1562.48\">2×10</text>\n",
       "</g>\n",
       "<g clip-path=\"url(#clip0700)\">\n",
       "<text style=\"fill:#000000; fill-opacity:1; font-family:Arial,Helvetica Neue,Helvetica,sans-serif; font-size:38px; text-anchor:start;\" transform=\"rotate(0, 1355.78, 1535.07)\" x=\"1355.78\" y=\"1535.07\">4</text>\n",
       "</g>\n",
       "<g clip-path=\"url(#clip0700)\">\n",
       "<text style=\"fill:#000000; fill-opacity:1; font-family:Arial,Helvetica Neue,Helvetica,sans-serif; font-size:48px; text-anchor:start;\" transform=\"rotate(0, 1733.64, 1562.48)\" x=\"1733.64\" y=\"1562.48\">3×10</text>\n",
       "</g>\n",
       "<g clip-path=\"url(#clip0700)\">\n",
       "<text style=\"fill:#000000; fill-opacity:1; font-family:Arial,Helvetica Neue,Helvetica,sans-serif; font-size:38px; text-anchor:start;\" transform=\"rotate(0, 1842.04, 1535.07)\" x=\"1842.04\" y=\"1535.07\">4</text>\n",
       "</g>\n",
       "<g clip-path=\"url(#clip0700)\">\n",
       "<text style=\"fill:#000000; fill-opacity:1; font-family:Arial,Helvetica Neue,Helvetica,sans-serif; font-size:48px; text-anchor:start;\" transform=\"rotate(0, 2219.9, 1562.48)\" x=\"2219.9\" y=\"1562.48\">4×10</text>\n",
       "</g>\n",
       "<g clip-path=\"url(#clip0700)\">\n",
       "<text style=\"fill:#000000; fill-opacity:1; font-family:Arial,Helvetica Neue,Helvetica,sans-serif; font-size:38px; text-anchor:start;\" transform=\"rotate(0, 2328.3, 1535.07)\" x=\"2328.3\" y=\"1535.07\">4</text>\n",
       "</g>\n",
       "<g clip-path=\"url(#clip0700)\">\n",
       "<text style=\"fill:#000000; fill-opacity:1; font-family:Arial,Helvetica Neue,Helvetica,sans-serif; font-size:48px; text-anchor:end;\" transform=\"rotate(0, 277.332, 1464.21)\" x=\"277.332\" y=\"1464.21\">0</text>\n",
       "</g>\n",
       "<g clip-path=\"url(#clip0700)\">\n",
       "<text style=\"fill:#000000; fill-opacity:1; font-family:Arial,Helvetica Neue,Helvetica,sans-serif; font-size:48px; text-anchor:start;\" transform=\"rotate(0, 107.046, 1112.61)\" x=\"107.046\" y=\"1112.61\">5.0×10</text>\n",
       "</g>\n",
       "<g clip-path=\"url(#clip0700)\">\n",
       "<text style=\"fill:#000000; fill-opacity:1; font-family:Arial,Helvetica Neue,Helvetica,sans-serif; font-size:38px; text-anchor:start;\" transform=\"rotate(0, 255.587, 1085.2)\" x=\"255.587\" y=\"1085.2\">4</text>\n",
       "</g>\n",
       "<g clip-path=\"url(#clip0700)\">\n",
       "<text style=\"fill:#000000; fill-opacity:1; font-family:Arial,Helvetica Neue,Helvetica,sans-serif; font-size:48px; text-anchor:start;\" transform=\"rotate(0, 107.046, 754.77)\" x=\"107.046\" y=\"754.77\">1.0×10</text>\n",
       "</g>\n",
       "<g clip-path=\"url(#clip0700)\">\n",
       "<text style=\"fill:#000000; fill-opacity:1; font-family:Arial,Helvetica Neue,Helvetica,sans-serif; font-size:38px; text-anchor:start;\" transform=\"rotate(0, 255.587, 727.36)\" x=\"255.587\" y=\"727.36\">5</text>\n",
       "</g>\n",
       "<g clip-path=\"url(#clip0700)\">\n",
       "<text style=\"fill:#000000; fill-opacity:1; font-family:Arial,Helvetica Neue,Helvetica,sans-serif; font-size:48px; text-anchor:start;\" transform=\"rotate(0, 107.046, 396.935)\" x=\"107.046\" y=\"396.935\">1.5×10</text>\n",
       "</g>\n",
       "<g clip-path=\"url(#clip0700)\">\n",
       "<text style=\"fill:#000000; fill-opacity:1; font-family:Arial,Helvetica Neue,Helvetica,sans-serif; font-size:38px; text-anchor:start;\" transform=\"rotate(0, 255.587, 369.525)\" x=\"255.587\" y=\"369.525\">5</text>\n",
       "</g>\n",
       "<polyline clip-path=\"url(#clip0702)\" style=\"stroke:#009af9; stroke-width:4; stroke-opacity:1; fill:none\" points=\"\n",
       "  359.391,1446.71 359.391,1446.63 369.116,1446.63 369.116,1446.63 378.841,1446.63 378.841,1446.64 388.566,1446.64 388.566,1373.17 398.291,1373.17 398.291,1415.08 \n",
       "  408.016,1415.08 408.016,1388.99 417.742,1388.99 417.742,1422.02 427.467,1422.02 427.467,1422.12 437.192,1422.12 437.192,1317.24 446.917,1317.24 446.917,1423.98 \n",
       "  456.642,1423.98 456.642,1326.78 466.367,1326.78 466.367,1425.79 476.093,1425.79 476.093,1414.09 485.818,1414.09 485.818,1211.29 495.543,1211.29 495.543,1396.62 \n",
       "  505.268,1396.62 505.268,1358.74 514.993,1358.74 514.993,1364.82 524.718,1364.82 524.718,1424.08 534.444,1424.08 534.444,1202.36 544.169,1202.36 544.169,1381.87 \n",
       "  553.894,1381.87 553.894,1374.12 563.619,1374.12 563.619,1422.94 573.344,1422.94 573.344,1333.61 583.069,1333.61 583.069,820.909 592.794,820.909 592.794,1407.95 \n",
       "  602.52,1407.95 602.52,1354.66 612.245,1354.66 612.245,1373.06 621.97,1373.06 621.97,1422.45 631.695,1422.45 631.695,886.615 641.42,886.615 641.42,1409.8 \n",
       "  651.145,1409.8 651.145,1308.67 660.871,1308.67 660.871,1407.39 670.596,1407.39 670.596,1418.95 680.321,1418.95 680.321,1156.69 690.046,1156.69 690.046,1317.16 \n",
       "  699.771,1317.16 699.771,1324.28 709.496,1324.28 709.496,1415.89 719.221,1415.89 719.221,1404.8 728.947,1404.8 728.947,893.428 738.672,893.428 738.672,1418.22 \n",
       "  748.397,1418.22 748.397,1296.5 758.122,1296.5 758.122,1420.02 767.847,1420.02 767.847,1406.7 777.572,1406.7 777.572,1236.64 787.298,1236.64 787.298,1418.09 \n",
       "  797.023,1418.09 797.023,1396.45 806.748,1396.45 806.748,1302.56 816.473,1302.56 816.473,1406.21 826.198,1406.21 826.198,88.0053 835.923,88.0053 835.923,1409.96 \n",
       "  845.648,1409.96 845.648,1357.23 855.374,1357.23 855.374,1417.13 865.099,1417.13 865.099,1386.75 874.824,1386.75 874.824,1285.71 884.549,1285.71 884.549,1347.66 \n",
       "  894.274,1347.66 894.274,1390.46 903.999,1390.46 903.999,1420.21 913.725,1420.21 913.725,1419.17 923.45,1419.17 923.45,557.7 933.175,557.7 933.175,1418.8 \n",
       "  942.9,1418.8 942.9,1389.24 952.625,1389.24 952.625,1410.87 962.35,1410.87 962.35,1388.52 972.076,1388.52 972.076,1290.87 981.801,1290.87 981.801,1399.64 \n",
       "  991.526,1399.64 991.526,1404 1001.25,1404 1001.25,1415.65 1010.98,1415.65 1010.98,1425.14 1020.7,1425.14 1020.7,1180.9 1030.43,1180.9 1030.43,1425.31 \n",
       "  1040.15,1425.31 1040.15,1322.96 1049.88,1322.96 1049.88,1422.86 1059.6,1422.86 1059.6,1423.68 1069.33,1423.68 1069.33,550.45 1079.05,550.45 1079.05,1421.22 \n",
       "  1088.78,1421.22 1088.78,1409.66 1098.5,1409.66 1098.5,1408.2 1108.23,1408.2 1108.23,1424.91 1117.95,1424.91 1117.95,959.284 1127.68,959.284 1127.68,1426.25 \n",
       "  1137.4,1426.25 1137.4,1408.85 1147.13,1408.85 1147.13,1429.73 1156.85,1429.73 1156.85,1385.89 1166.58,1385.89 1166.58,1327.36 1176.3,1327.36 1176.3,1429.97 \n",
       "  1186.03,1429.97 1186.03,1403.49 1195.75,1403.49 1195.75,1414.14 1205.48,1414.14 1205.48,1431.08 1215.2,1431.08 1215.2,1076.33 1224.93,1076.33 1224.93,1420.65 \n",
       "  1234.65,1420.65 1234.65,1411.67 1244.38,1411.67 1244.38,1430.46 1254.11,1430.46 1254.11,1427.18 1263.83,1427.18 1263.83,1384 1273.56,1384 1273.56,1373.31 \n",
       "  1283.28,1373.31 1283.28,1422.84 1293.01,1422.84 1293.01,1421.95 1302.73,1421.95 1302.73,1426.61 1312.46,1426.61 1312.46,495.802 1322.18,495.802 1322.18,1434.2 \n",
       "  1331.91,1434.2 1331.91,1414.47 1341.63,1414.47 1341.63,1432.26 1351.36,1432.26 1351.36,1424.85 1361.08,1424.85 1361.08,1247.36 1370.81,1247.36 1370.81,1431.29 \n",
       "  1380.53,1431.29 1380.53,1432.03 1390.26,1432.03 1390.26,1407.75 1399.98,1407.75 1399.98,1435.23 1409.71,1435.23 1409.71,1345.6 1419.43,1345.6 1419.43,1433.78 \n",
       "  1429.16,1433.78 1429.16,1406.55 1438.88,1406.55 1438.88,1435.68 1448.61,1435.68 1448.61,1428.59 1458.33,1428.59 1458.33,1387.95 1468.06,1387.95 1468.06,1434.44 \n",
       "  1477.78,1434.44 1477.78,1428.56 1487.51,1428.56 1487.51,1436.01 1497.23,1436.01 1497.23,1429.05 1506.96,1429.05 1506.96,1036.84 1516.68,1036.84 1516.68,1431.53 \n",
       "  1526.41,1431.53 1526.41,1430.17 1536.13,1430.17 1536.13,1435.45 1545.86,1435.45 1545.86,1432.09 1555.58,1432.09 1555.58,966.226 1565.31,966.226 1565.31,1427.43 \n",
       "  1575.04,1427.43 1575.04,1434.28 1584.76,1434.28 1584.76,1430.79 1594.49,1430.79 1594.49,1437.8 1604.21,1437.8 1604.21,1405.74 1613.94,1405.74 1613.94,1437.4 \n",
       "  1623.66,1437.4 1623.66,1421.79 1633.39,1421.79 1633.39,1438.66 1643.11,1438.66 1643.11,1440.11 1652.84,1440.11 1652.84,1404.72 1662.56,1404.72 1662.56,1432.71 \n",
       "  1672.29,1432.71 1672.29,1430.6 1682.01,1430.6 1682.01,1434.7 1691.74,1434.7 1691.74,1440.78 1701.46,1440.78 1701.46,1223.48 1711.19,1223.48 1711.19,1441.13 \n",
       "  1720.91,1441.13 1720.91,1436.59 1730.64,1436.59 1730.64,1438.6 1740.36,1438.6 1740.36,1429.69 1750.09,1429.69 1750.09,1424.31 1759.81,1424.31 1759.81,1440.27 \n",
       "  1769.54,1440.27 1769.54,1436.64 1779.26,1436.64 1779.26,1438.23 1788.99,1438.23 1788.99,1436.14 1798.71,1436.14 1798.71,1007.13 1808.44,1007.13 1808.44,1440.75 \n",
       "  1818.16,1440.75 1818.16,1440.93 1827.89,1440.93 1827.89,1441.15 1837.61,1441.15 1837.61,1439.94 1847.34,1439.94 1847.34,1432.44 1857.06,1432.44 1857.06,1436.16 \n",
       "  1866.79,1436.16 1866.79,1438.19 1876.52,1438.19 1876.52,1443.08 1886.24,1443.08 1886.24,1441.78 1895.97,1441.78 1895.97,1342.05 1905.69,1342.05 1905.69,1439.54 \n",
       "  1915.42,1439.54 1915.42,1435.04 1925.14,1435.04 1925.14,1442.43 1934.87,1442.43 1934.87,1442.26 1944.59,1442.26 1944.59,1424.94 1954.32,1424.94 1954.32,1443.35 \n",
       "  1964.04,1443.35 1964.04,1439.07 1973.77,1439.07 1973.77,1434.75 1983.49,1434.75 1983.49,1442.55 1993.22,1442.55 1993.22,1432.02 2002.94,1432.02 2002.94,1442.96 \n",
       "  2012.67,1442.96 2012.67,1439.69 2022.39,1439.69 2022.39,1443.46 2032.12,1443.46 2032.12,1441.96 2041.84,1441.96 2041.84,829.261 2051.57,829.261 2051.57,1445.26 \n",
       "  2061.29,1445.26 2061.29,1445.39 2071.02,1445.39 2071.02,1445.88 2080.74,1445.88 2080.74,1445.93 2090.47,1445.93 2090.47,1403.98 2100.19,1403.98 2100.19,1445.85 \n",
       "  2109.92,1445.85 2109.92,1444.85 2119.64,1444.85 2119.64,1445.73 2129.37,1445.73 2129.37,1445.58 2139.09,1445.58 2139.09,1441.94 2148.82,1441.94 2148.82,1445.5 \n",
       "  2158.54,1445.5 2158.54,1444.71 2168.27,1444.71 2168.27,1446.08 2177.99,1446.08 2177.99,1445.51 2187.72,1445.51 2187.72,1440.42 2197.45,1440.42 2197.45,1446.04 \n",
       "  2207.17,1446.04 2207.17,1443.37 2216.9,1443.37 2216.9,1446.11 2226.62,1446.11 2226.62,1445.93 2236.35,1445.93 2236.35,1443.79 2246.07,1443.79 2246.07,1445.51 \n",
       "  2255.8,1445.51 2255.8,1445.55 2265.52,1445.55 2265.52,1445.45 2275.25,1445.45 2275.25,1446.02 2284.97,1446.02 2284.97,1208.78 2294.7,1208.78 2294.7,1446.71 \n",
       "  \n",
       "  \"/>\n",
       "<polygon clip-path=\"url(#clip0700)\" points=\"\n",
       "1989.93,251.724 2280.76,251.724 2280.76,130.764 1989.93,130.764 \n",
       "  \" fill=\"#ffffff\" fill-rule=\"evenodd\" fill-opacity=\"1\"/>\n",
       "<polyline clip-path=\"url(#clip0700)\" style=\"stroke:#000000; stroke-width:4; stroke-opacity:1; fill:none\" points=\"\n",
       "  1989.93,251.724 2280.76,251.724 2280.76,130.764 1989.93,130.764 1989.93,251.724 \n",
       "  \"/>\n",
       "<polyline clip-path=\"url(#clip0700)\" style=\"stroke:#009af9; stroke-width:4; stroke-opacity:1; fill:none\" points=\"\n",
       "  2013.93,191.244 2157.93,191.244 \n",
       "  \"/>\n",
       "<g clip-path=\"url(#clip0700)\">\n",
       "<text style=\"fill:#000000; fill-opacity:1; font-family:Arial,Helvetica Neue,Helvetica,sans-serif; font-size:48px; text-anchor:start;\" transform=\"rotate(0, 2181.93, 208.744)\" x=\"2181.93\" y=\"208.744\">y1</text>\n",
       "</g>\n",
       "</svg>\n"
      ]
     },
     "execution_count": 16,
     "metadata": {},
     "output_type": "execute_result"
    }
   ],
   "source": [
    "@df data histogram(:loan_amnt)"
>>>>>>> 4b94e62f49e143a9ce62da9371abf913fa60f0fa
   ]
  }
 ],
 "metadata": {
  "kernelspec": {
   "display_name": "Julia 1.2.0",
   "language": "julia",
   "name": "julia-1.2"
  },
  "language_info": {
   "file_extension": ".jl",
   "mimetype": "application/julia",
   "name": "julia",
   "version": "1.2.0"
  }
 },
 "nbformat": 4,
 "nbformat_minor": 2
}
