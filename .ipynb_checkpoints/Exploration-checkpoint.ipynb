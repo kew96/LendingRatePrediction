{
 "cells": [
  {
   "cell_type": "code",
   "execution_count": 1,
   "metadata": {},
   "outputs": [
    {
     "name": "stderr",
     "output_type": "stream",
     "text": [
      "┌ Info: Recompiling stale cache file C:\\Users\\cspa3\\.julia\\compiled\\v1.2\\CSV\\HHBkp.ji for CSV [336ed68f-0bac-5ca0-87d4-7b16caf5d00b]\n",
      "└ @ Base loading.jl:1240\n"
     ]
    },
    {
     "ename": "ArgumentError",
     "evalue": "ArgumentError: \"accepted_2007_to_2018Q4.csv\" is not a valid file",
     "output_type": "error",
     "traceback": [
      "ArgumentError: \"accepted_2007_to_2018Q4.csv\" is not a valid file",
      "",
      "Stacktrace:",
      " [1] checkvalidsource at C:\\Users\\cspa3\\.julia\\packages\\CSV\\t5ipc\\src\\CSV.jl:95 [inlined]",
      " [2] file(::String, ::Int64, ::Bool, ::Int64, ::Nothing, ::Int64, ::Int64, ::Bool, ::Nothing, ::Bool, ::Bool, ::Array{String,1}, ::String, ::Nothing, ::Bool, ::Char, ::Nothing, ::Nothing, ::Char, ::Nothing, ::UInt8, ::Nothing, ::Nothing, ::Nothing, ::Nothing, ::Dict{Int8,Int8}, ::Bool, ::Float64, ::Bool, ::Bool, ::Nothing, ::Bool, ::Bool, ::Nothing) at C:\\Users\\cspa3\\.julia\\packages\\CSV\\t5ipc\\src\\CSV.jl:247",
      " [3] Type at C:\\Users\\cspa3\\.julia\\packages\\CSV\\t5ipc\\src\\CSV.jl:197 [inlined]",
      " [4] #read#61 at C:\\Users\\cspa3\\.julia\\packages\\CSV\\t5ipc\\src\\CSV.jl:830 [inlined]",
      " [5] read(::String) at C:\\Users\\cspa3\\.julia\\packages\\CSV\\t5ipc\\src\\CSV.jl:830",
      " [6] top-level scope at In[1]:2"
     ]
    }
   ],
   "source": [
    "using CSV\n",
    "df = CSV.read(\"accepted_2007_to_2018Q4.csv\")\n",
    "size(df)"
   ]
  },
  {
   "cell_type": "code",
   "execution_count": 2,
   "metadata": {},
   "outputs": [
    {
     "ename": "UndefVarError",
     "evalue": "UndefVarError: df not defined",
     "output_type": "error",
     "traceback": [
      "UndefVarError: df not defined",
      "",
      "Stacktrace:",
      " [1] top-level scope at .\\In[2]:1"
     ]
    }
   ],
   "source": [
    "for i in names(df)\n",
    "    println(i)\n",
    "end"
   ]
  },
  {
   "cell_type": "code",
   "execution_count": 3,
   "metadata": {},
   "outputs": [
    {
     "ename": "UndefVarError",
     "evalue": "UndefVarError: df not defined",
     "output_type": "error",
     "traceback": [
      "UndefVarError: df not defined",
      "",
      "Stacktrace:",
      " [1] top-level scope at In[3]:1"
     ]
    }
   ],
   "source": [
    "first(df, 5)"
   ]
  },
  {
   "cell_type": "code",
   "execution_count": null,
   "metadata": {},
   "outputs": [],
   "source": [
    "using Plots"
   ]
  }
 ],
 "metadata": {
  "kernelspec": {
   "display_name": "Julia 1.2.0",
   "language": "julia",
   "name": "julia-1.2"
  },
  "language_info": {
   "file_extension": ".jl",
   "mimetype": "application/julia",
   "name": "julia",
   "version": "1.2.0"
  }
 },
 "nbformat": 4,
 "nbformat_minor": 2
}
