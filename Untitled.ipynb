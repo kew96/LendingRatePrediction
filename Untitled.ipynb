{
 "cells": [
  {
   "cell_type": "code",
   "execution_count": 4,
   "metadata": {},
   "outputs": [
    {
     "data": {
      "text/plain": [
       "(27648741, 9)"
      ]
     },
     "execution_count": 4,
     "metadata": {},
     "output_type": "execute_result"
    }
   ],
   "source": [
    "using CSV\n",
    "df = CSV.read(\"rejected_2007_to_2018Q4.csv\")\n",
    "size(df)"
   ]
  },
  {
   "cell_type": "code",
   "execution_count": 5,
   "metadata": {},
   "outputs": [
    {
     "name": "stdout",
     "output_type": "stream",
     "text": [
      "Amount Requested\n",
      "Application Date\n",
      "Loan Title\n",
      "Risk_Score\n",
      "Debt-To-Income Ratio\n",
      "Zip Code\n",
      "State\n",
      "Employment Length\n",
      "Policy Code\n"
     ]
    }
   ],
   "source": [
    "for i in names(df)\n",
    "    println(i)\n",
    "end"
   ]
  },
  {
   "cell_type": "code",
   "execution_count": 7,
   "metadata": {},
   "outputs": [
    {
     "data": {
      "text/html": [
       "<table class=\"data-frame\"><thead><tr><th></th><th>Amount Requested</th><th>Application Date</th><th>Loan Title</th><th>Risk_Score</th></tr><tr><th></th><th>Float64</th><th>Dates…</th><th>String⍰</th><th>Float64⍰</th></tr></thead><tbody><p>5 rows × 9 columns (omitted printing of 5 columns)</p><tr><th>1</th><td>1000.0</td><td>2007-05-26</td><td>Wedding Covered but No Honeymoon</td><td>693.0</td></tr><tr><th>2</th><td>1000.0</td><td>2007-05-26</td><td>Consolidating Debt</td><td>703.0</td></tr><tr><th>3</th><td>11000.0</td><td>2007-05-27</td><td>Want to consolidate my debt</td><td>715.0</td></tr><tr><th>4</th><td>6000.0</td><td>2007-05-27</td><td>waksman</td><td>698.0</td></tr><tr><th>5</th><td>1500.0</td><td>2007-05-27</td><td>mdrigo</td><td>509.0</td></tr></tbody></table>"
      ],
      "text/latex": [
       "\\begin{tabular}{r|ccccc}\n",
       "\t& Amount Requested & Application Date & Loan Title & Risk\\_Score & \\\\\n",
       "\t\\hline\n",
       "\t& Float64 & Dates… & String⍰ & Float64⍰ & \\\\\n",
       "\t\\hline\n",
       "\t1 & 1000.0 & 2007-05-26 & Wedding Covered but No Honeymoon & 693.0 & $\\dots$ \\\\\n",
       "\t2 & 1000.0 & 2007-05-26 & Consolidating Debt & 703.0 & $\\dots$ \\\\\n",
       "\t3 & 11000.0 & 2007-05-27 & Want to consolidate my debt & 715.0 & $\\dots$ \\\\\n",
       "\t4 & 6000.0 & 2007-05-27 & waksman & 698.0 & $\\dots$ \\\\\n",
       "\t5 & 1500.0 & 2007-05-27 & mdrigo & 509.0 & $\\dots$ \\\\\n",
       "\\end{tabular}\n"
      ],
      "text/plain": [
       "5×9 DataFrames.DataFrame. Omitted printing of 6 columns\n",
       "│ Row │ Amount Requested │ Application Date │ Loan Title                       │\n",
       "│     │ \u001b[90mFloat64\u001b[39m          │ \u001b[90mDates.Date\u001b[39m       │ \u001b[90mUnion{Missing, String}\u001b[39m           │\n",
       "├─────┼──────────────────┼──────────────────┼──────────────────────────────────┤\n",
       "│ 1   │ 1000.0           │ 2007-05-26       │ Wedding Covered but No Honeymoon │\n",
       "│ 2   │ 1000.0           │ 2007-05-26       │ Consolidating Debt               │\n",
       "│ 3   │ 11000.0          │ 2007-05-27       │ Want to consolidate my debt      │\n",
       "│ 4   │ 6000.0           │ 2007-05-27       │ waksman                          │\n",
       "│ 5   │ 1500.0           │ 2007-05-27       │ mdrigo                           │"
      ]
     },
     "execution_count": 7,
     "metadata": {},
     "output_type": "execute_result"
    }
   ],
   "source": [
    "first(df, 5)"
   ]
  }
 ],
 "metadata": {
  "kernelspec": {
   "display_name": "Julia 1.2.0",
   "language": "julia",
   "name": "julia-1.2"
  },
  "language_info": {
   "file_extension": ".jl",
   "mimetype": "application/julia",
   "name": "julia",
   "version": "1.2.0"
  }
 },
 "nbformat": 4,
 "nbformat_minor": 2
}
